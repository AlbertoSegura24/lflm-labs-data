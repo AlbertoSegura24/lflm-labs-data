{
 "cells": [
  {
   "cell_type": "code",
   "execution_count": 1,
   "metadata": {},
   "outputs": [
    {
     "name": "stdout",
     "output_type": "stream",
     "text": [
      "[[162, 60]]\n",
      "[[128, 787]]\n",
      "[586.60245879]\n"
     ]
    }
   ],
   "source": [
    "import cv2\n",
    "import numpy as np\n",
    "import math\n",
    "from scipy.spatial.distance import cdist\n",
    "\n",
    "# This program opens in a new window the image you want and with the left click and right click you \n",
    "# take two points in the image and draws a line conecting each one and prints its length on shell (it\n",
    "# measures in pixels but I added a transformation to obtain a real distance)\n",
    "\n",
    "pointsl=[]\n",
    "pointsr=[]\n",
    "# function to display the coordinates of\n",
    "# of the points clicked on the image\n",
    "def click_event(event, x, y, flags, params):\n",
    " \n",
    "    # checking for left mouse clicks\n",
    "    if event == cv2.EVENT_LBUTTONDOWN:\n",
    "        pointsl.append([x,y])\n",
    "\n",
    "        # displaying the coordinates\n",
    "        # on the image window\n",
    "        font = cv2.FONT_HERSHEY_SIMPLEX\n",
    "        cv2.putText(img, '('+str(x) + ',' + str(y)+')', (x,y), font, 1, (255, 0, 0), 2)\n",
    "        cv2.circle(img, (x,y), 2, (255,0,0),thickness=-1)\n",
    "        cv2.imshow('image', img)\n",
    " \n",
    "    # checking for right mouse clicks    \n",
    "    if event==cv2.EVENT_RBUTTONDOWN:\n",
    "        pointsr.append([x,y])\n",
    "        font = cv2.FONT_HERSHEY_SIMPLEX\n",
    "        cv2.putText(img,'(' + str(x) + ',' + str(y) + ')', (x,y), font, 1, (255, 255, 0), 2)\n",
    "        cv2.circle(img, (x,y), 2, (255,255,0),thickness=-1)\n",
    "        # drawing line between points with its distance\n",
    "        if len(pointsl)==len(pointsr):\n",
    "            for i in range(len(pointsr)):\n",
    "                cv2.line(img, pointsl[i],pointsr[i], (255,255,0),1)\n",
    "            \n",
    "        cv2.imshow('image', img)\n",
    " \n",
    "# driver function\n",
    "if __name__==\"__main__\":\n",
    " \n",
    "    img = cv2.imread('23-11-21-10x-QWells.bmp')\n",
    " \n",
    "    cv2.imshow('image', img)\n",
    " \n",
    "    # setting mouse handler for the image\n",
    "    cv2.setMouseCallback('image', click_event)\n",
    " \n",
    "    cv2.waitKey(0)\n",
    "    cv2.destroyAllWindows()\n",
    "\n",
    "print(pointsl)\n",
    "print(pointsr)\n",
    "print(np.diagonal(cdist(pointsl,pointsr,'euclidean'))*0.806)"
   ]
  },
  {
   "cell_type": "code",
   "execution_count": null,
   "metadata": {},
   "outputs": [],
   "source": []
  }
 ],
 "metadata": {
  "interpreter": {
   "hash": "a818ab11ab10ac998ea662494f7172710092879c7c5649f6c41b582d973b9277"
  },
  "kernelspec": {
   "display_name": "Python 3.9.7 64-bit ('testing': conda)",
   "language": "python",
   "name": "python3"
  },
  "language_info": {
   "codemirror_mode": {
    "name": "ipython",
    "version": 3
   },
   "file_extension": ".py",
   "mimetype": "text/x-python",
   "name": "python",
   "nbconvert_exporter": "python",
   "pygments_lexer": "ipython3",
   "version": "3.9.7"
  },
  "orig_nbformat": 4
 },
 "nbformat": 4,
 "nbformat_minor": 2
}
