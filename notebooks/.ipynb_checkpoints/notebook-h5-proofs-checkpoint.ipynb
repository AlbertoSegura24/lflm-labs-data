{
 "cells": [
  {
   "cell_type": "code",
   "execution_count": 1,
   "id": "fe4b112a-b6fb-4467-8589-01e7e35eb0bb",
   "metadata": {},
   "outputs": [],
   "source": [
    "#%matplotlib widget\n",
    "import numpy as np\n",
    "import matplotlib.pyplot as plt\n",
    "import os\n",
    "import sys\n",
    "import glob\n",
    "from tabulate import tabulate\n",
    "from datetime import date\n",
    "import pandas as pd\n",
    "from os import walk\n",
    "import peakutils\n",
    "from peakutils.plot import plot as pplot\n",
    "from IPython.display import display, clear_output\n",
    "#sys.path.append('/media/labfiles/lab-codes/lflm-labs-data/src')\n",
    "from labexp import experiments\n",
    "plt.style.use('/media/labfiles/lab-codes/plotstyle.mplstyle')\n",
    "#path=r'/media/labfiles/lab-exps'\n"
   ]
  },
  {
   "cell_type": "code",
   "execution_count": 238,
   "id": "be175fb5-9387-4b12-be77-47bb6e8571e3",
   "metadata": {
    "tags": []
   },
   "outputs": [
    {
     "name": "stdout",
     "output_type": "stream",
     "text": [
      "|  No. Dir  | Name Dir                                         |  No. files  |\n",
      "|-----------|--------------------------------------------------|-------------|\n",
      "|     0     | cry-sys-1/3-wells/exp-2021-12/2021-12-14-ras     |      7      |\n",
      "|     1     | cry-sys-1/3-wells/exp-2021-12/2021-12-16-ras     |      3      |\n",
      "|     2     | cry-sys-1/3-wells/exp-2022-01/exp-2022-01-10-ras |      4      |\n"
     ]
    }
   ],
   "source": [
    "exp = experiments(1,'cry1','ras','3-wells')\n",
    "data = exp.data\n",
    "filesname=exp.filesname\n",
    "paths=exp.pathname\n",
    "path = exp.path\n",
    "folders = exp.foldername"
   ]
  },
  {
   "cell_type": "code",
   "execution_count": 239,
   "id": "e5c0cde7-d5e2-421d-8f16-431f80902e9f",
   "metadata": {},
   "outputs": [
    {
     "name": "stdout",
     "output_type": "stream",
     "text": [
      "/media/labfiles/lab-exps/spectro-lab/cry-sys-1/3-wells\n",
      "/media/labfiles/lab-exps/spectro-lab/cry-sys-1/3-wells/exp-2021-12\n",
      "/media/labfiles/lab-exps/spectro-lab/cry-sys-1/3-wells/exp-2021-12/2021-12-14-ras\n",
      "/media/labfiles/lab-exps/spectro-lab/cry-sys-1/3-wells/exp-2021-12/2021-12-16-ras\n",
      "/media/labfiles/lab-exps/spectro-lab/cry-sys-1/3-wells/exp-2022-01\n",
      "/media/labfiles/lab-exps/spectro-lab/cry-sys-1/3-wells/exp-2022-01/exp-2022-01-10-ras\n"
     ]
    }
   ],
   "source": [
    "dname = []\n",
    "for (dirpath, dirnames, filenames) in walk('/media/labfiles/lab-exps/spectro-lab/cry-sys-1/3-wells',topdown=True):\n",
    "    # if 'exp-20' in dirpath:\n",
    "    #     print(dirpath)\n",
    "    #     #print(dirnames)\n",
    "    #     #dname.append(dirnames)\n",
    "    # else:\n",
    "    #     \n",
    "    print(dirpath)\n"
   ]
  },
  {
   "cell_type": "code",
   "execution_count": 234,
   "id": "b9b37718-bd67-4b71-9875-5c5b58a3f4a6",
   "metadata": {},
   "outputs": [
    {
     "data": {
      "text/plain": [
       "['exp-2021-12', 'exp-2022-01']"
      ]
     },
     "execution_count": 234,
     "metadata": {},
     "output_type": "execute_result"
    }
   ],
   "source": [
    "ld = os.listdir(\"/media/labfiles/lab-exps/spectro-lab/cry-sys-1/3-wells\")\n",
    "ld"
   ]
  },
  {
   "cell_type": "code",
   "execution_count": 236,
   "id": "6846b21a-52b6-41ee-97c0-634b23b715b8",
   "metadata": {},
   "outputs": [
    {
     "data": {
      "text/plain": [
       "['exp-2021-12', 'exp-2022-01']"
      ]
     },
     "execution_count": 236,
     "metadata": {},
     "output_type": "execute_result"
    }
   ],
   "source": [
    "ld = os.listdir(\"/media/labfiles/lab-exps/spectro-lab/cry-sys-1/3-wells\")\n",
    "for i in ld:\n",
    "    if \".opju\" in i:\n",
    "        print(i)\n",
    "        ld.remove(i)\n",
    "ld"
   ]
  },
  {
   "cell_type": "code",
   "execution_count": 85,
   "id": "d05cf91f-85a2-423f-b24c-ef17a21d4f86",
   "metadata": {},
   "outputs": [
    {
     "name": "stdout",
     "output_type": "stream",
     "text": [
      "7\n",
      "(250, 4, 7)\n",
      "3\n",
      "(250, 4, 3)\n",
      "4\n",
      "(250, 4, 4)\n"
     ]
    }
   ],
   "source": [
    "import h5py\n",
    "lend = len(data)\n",
    "maxdimrows = 0\n",
    "maxdimcols = 0\n",
    "dimlist = []\n",
    "totaldims = []\n",
    "for i in range(lend):\n",
    "    lend2 = len(data[i])\n",
    "    dummylist = []\n",
    "    #print(lend2)\n",
    "    if lend2 > 0:\n",
    "        for j in range(lend2):\n",
    "            #print(data[i][j].shape)\n",
    "            if data[i][j].shape[0] > maxdimrows or data[i][j].shape[1] > maxdimcols:\n",
    "                maxdimrows = data[i][j].shape[0]\n",
    "                maxdimcols = data[i][j].shape[1]\n",
    "            else:\n",
    "                pass\n",
    "            dimlist.append([maxdimrows,maxdimcols])\n",
    "            dummylist.append(data[i][j].shape)   \n",
    "        totaldims.append(dummylist)\n",
    "        \n",
    "alla = []     \n",
    "idxc=0\n",
    "for i in range(lend):\n",
    "    lend2 = len(data[i])\n",
    "    if lend2 != 0:\n",
    "        print(lend2)\n",
    "        npa = np.empty((dimlist[i][0],dimlist[i][1],lend2), dtype=np.float64)\n",
    "        print(npa.shape)\n",
    "        for j in range(lend2):\n",
    "            rows,cols = totaldims[idxc][j]\n",
    "            #print(rows,cols)\n",
    "            if npa[0:rows,0:cols,j].shape == data[i][j].shape:\n",
    "                #print(data[i][j].shape)\n",
    "                #print(npa[0:rows,0:cols,j].shape)\n",
    "                npa[0:rows,0:cols,j]=data[i][j]\n",
    "        alla.append(npa)\n",
    "        idxc+=1\n",
    "    \n",
    "# #define multidimensional array"
   ]
  },
  {
   "cell_type": "code",
   "execution_count": 242,
   "id": "5355648b-4cd2-491f-8bfb-62689689d90f",
   "metadata": {},
   "outputs": [
    {
     "name": "stdout",
     "output_type": "stream",
     "text": [
      "Already exist\n"
     ]
    }
   ],
   "source": [
    "try:\n",
    "    f = h5py.File(\"test0.h5\",\"w\")\n",
    "except:\n",
    "    f = h5py.File(\"test0.h5\",\"r+\")\n",
    "    print(\"Already exist\")"
   ]
  },
  {
   "cell_type": "code",
   "execution_count": 89,
   "id": "84dd9f68-9357-4516-a208-1364099f14db",
   "metadata": {},
   "outputs": [
    {
     "data": {
      "text/plain": [
       "<KeysViewHDF5 ['exp-2021-12', 'exp-2022-01']>"
      ]
     },
     "execution_count": 89,
     "metadata": {},
     "output_type": "execute_result"
    }
   ],
   "source": [
    "f.keys()"
   ]
  },
  {
   "cell_type": "code",
   "execution_count": 90,
   "id": "ebe80f32-b4c0-48cf-a4b9-d57081ddb35e",
   "metadata": {},
   "outputs": [
    {
     "data": {
      "text/plain": [
       "['exp-2021-12', 'exp-2022-01']"
      ]
     },
     "execution_count": 90,
     "metadata": {},
     "output_type": "execute_result"
    }
   ],
   "source": [
    "pth='/media/labfiles/lab-exps/spectro-lab/cry-sys-1/3-wells/'\n",
    "os.listdir(pth)"
   ]
  },
  {
   "cell_type": "code",
   "execution_count": 91,
   "id": "88cad8c8-2c51-44bb-81e6-7ff9467d6a00",
   "metadata": {},
   "outputs": [],
   "source": [
    "for i in os.listdir(pth):\n",
    "    try :\n",
    "        f.create_group(i)\n",
    "        break\n",
    "    except:\n",
    "        break\n",
    "        print(\"These group already exist\")"
   ]
  },
  {
   "cell_type": "code",
   "execution_count": 92,
   "id": "0500866e-d1bd-4337-aa3f-da0a9dfbd5ac",
   "metadata": {},
   "outputs": [
    {
     "data": {
      "text/plain": [
       "['2021-12-14-ras', '2021-12-16-ras']"
      ]
     },
     "execution_count": 92,
     "metadata": {},
     "output_type": "execute_result"
    }
   ],
   "source": [
    "os.listdir(pth+ld[0])"
   ]
  },
  {
   "cell_type": "code",
   "execution_count": 93,
   "id": "7631ecfa-5a3c-45f8-b131-952238d073a4",
   "metadata": {},
   "outputs": [],
   "source": [
    "idx=0\n",
    "for count,value in enumerate(os.listdir(pth)):\n",
    "    for count2,value2 in enumerate(os.listdir(pth+ld[count])):\n",
    "        try:\n",
    "            f[value].create_group(value2)\n",
    "            print(value,value2)\n",
    "            idx+=1\n",
    "            break\n",
    "        except:\n",
    "            pass"
   ]
  },
  {
   "cell_type": "code",
   "execution_count": 94,
   "id": "8b519e69-fbc6-4dbd-8d07-357bfc301a23",
   "metadata": {},
   "outputs": [],
   "source": [
    "idx=0\n",
    "for count,value in enumerate(os.listdir(pth)):\n",
    "    for count2,value2 in enumerate(os.listdir(pth+ld[count])):\n",
    "        try:\n",
    "            #f[value].create_group(value2)\n",
    "            f[value][value2].create_dataset(\"data\",data=alla[idx], dtype=np.float64)\n",
    "            print(f[value][value2])\n",
    "            idx+=1\n",
    "            break\n",
    "        except:\n",
    "            pass\n"
   ]
  },
  {
   "cell_type": "code",
   "execution_count": 95,
   "id": "06b45bc1-60b0-4925-bf68-28770cd2091a",
   "metadata": {},
   "outputs": [
    {
     "data": {
      "text/plain": [
       "<KeysViewHDF5 ['exp-2021-12', 'exp-2022-01']>"
      ]
     },
     "execution_count": 95,
     "metadata": {},
     "output_type": "execute_result"
    }
   ],
   "source": [
    "f.keys()"
   ]
  },
  {
   "cell_type": "code",
   "execution_count": 53,
   "id": "1f3bbfbc-81c3-41f6-9562-c669e4c44d2d",
   "metadata": {},
   "outputs": [
    {
     "name": "stdout",
     "output_type": "stream",
     "text": [
      "0\n",
      "1\n",
      "2\n"
     ]
    }
   ],
   "source": [
    "count=0\n",
    "for i,pthn in enumerate(os.listdir(pth)):\n",
    "    for j,k in enumerate(os.listdir(pth+pthn)):\n",
    "        print(count)\n",
    "        #f.create_dataset(pthn+'/'+k,alla[count])\n",
    "        count+=1\n"
   ]
  },
  {
   "cell_type": "code",
   "execution_count": 62,
   "id": "13c7c94d-d537-4eab-9882-856297255f95",
   "metadata": {},
   "outputs": [
    {
     "data": {
      "text/plain": [
       "array([[ 1.49325301e+00, -6.62789004e-04, -2.18280699e-03,\n",
       "         1.44674047e-06],\n",
       "       [ 1.49361292e+00, -5.94083937e-04, -2.19957695e-03,\n",
       "         1.30673333e-06],\n",
       "       [ 1.49397300e+00, -6.18473992e-04, -2.21573253e-03,\n",
       "         1.37037294e-06],\n",
       "       [ 1.49433325e+00, -5.87503145e-04, -2.23143652e-03,\n",
       "         1.31097597e-06],\n",
       "       [ 1.49469368e+00, -6.19432718e-04, -2.24883239e-03,\n",
       "         1.39300036e-06],\n",
       "       [ 1.49505428e+00, -6.56453914e-04, -2.26419315e-03,\n",
       "         1.48633845e-06],\n",
       "       [ 1.49541506e+00, -7.04787698e-04, -2.28148253e-03,\n",
       "         1.60796082e-06],\n",
       "       [ 1.49577601e+00, -7.13553938e-04, -2.29705623e-03,\n",
       "         1.63907352e-06],\n",
       "       [ 1.49613713e+00, -7.65902425e-04, -2.31546963e-03,\n",
       "         1.77342381e-06],\n",
       "       [ 1.49649843e+00, -7.17889834e-04, -2.32849157e-03,\n",
       "         1.67160043e-06]])"
      ]
     },
     "execution_count": 62,
     "metadata": {},
     "output_type": "execute_result"
    }
   ],
   "source": [
    "comp = f['exp-2021-12/2021-12-14-ras/data'][:,:,0]\n",
    "comp[:10]"
   ]
  },
  {
   "cell_type": "code",
   "execution_count": 65,
   "id": "f7ab9c13-7b4b-4fb3-b1d8-1d439cf274a8",
   "metadata": {},
   "outputs": [
    {
     "data": {
      "text/plain": [
       "array([[ True,  True,  True,  True],\n",
       "       [ True,  True,  True,  True],\n",
       "       [ True,  True,  True,  True],\n",
       "       [ True,  True,  True,  True],\n",
       "       [ True,  True,  True,  True],\n",
       "       [ True,  True,  True,  True],\n",
       "       [ True,  True,  True,  True],\n",
       "       [ True,  True,  True,  True],\n",
       "       [ True,  True,  True,  True],\n",
       "       [ True,  True,  True,  True],\n",
       "       [ True,  True,  True,  True],\n",
       "       [ True,  True,  True,  True],\n",
       "       [ True,  True,  True,  True],\n",
       "       [ True,  True,  True,  True],\n",
       "       [ True,  True,  True,  True],\n",
       "       [ True,  True,  True,  True],\n",
       "       [ True,  True,  True,  True],\n",
       "       [ True,  True,  True,  True],\n",
       "       [ True,  True,  True,  True],\n",
       "       [ True,  True,  True,  True],\n",
       "       [ True,  True,  True,  True],\n",
       "       [ True,  True,  True,  True],\n",
       "       [ True,  True,  True,  True],\n",
       "       [ True,  True,  True,  True],\n",
       "       [ True,  True,  True,  True],\n",
       "       [ True,  True,  True,  True],\n",
       "       [ True,  True,  True,  True],\n",
       "       [ True,  True,  True,  True],\n",
       "       [ True,  True,  True,  True],\n",
       "       [ True,  True,  True,  True],\n",
       "       [ True,  True,  True,  True],\n",
       "       [ True,  True,  True,  True],\n",
       "       [ True,  True,  True,  True],\n",
       "       [ True,  True,  True,  True],\n",
       "       [ True,  True,  True,  True],\n",
       "       [ True,  True,  True,  True],\n",
       "       [ True,  True,  True,  True],\n",
       "       [ True,  True,  True,  True],\n",
       "       [ True,  True,  True,  True],\n",
       "       [ True,  True,  True,  True],\n",
       "       [ True,  True,  True,  True],\n",
       "       [ True,  True,  True,  True],\n",
       "       [ True,  True,  True,  True],\n",
       "       [ True,  True,  True,  True],\n",
       "       [ True,  True,  True,  True],\n",
       "       [ True,  True,  True,  True],\n",
       "       [ True,  True,  True,  True],\n",
       "       [ True,  True,  True,  True],\n",
       "       [ True,  True,  True,  True],\n",
       "       [ True,  True,  True,  True],\n",
       "       [ True,  True,  True,  True],\n",
       "       [ True,  True,  True,  True],\n",
       "       [ True,  True,  True,  True],\n",
       "       [ True,  True,  True,  True],\n",
       "       [ True,  True,  True,  True],\n",
       "       [ True,  True,  True,  True],\n",
       "       [ True,  True,  True,  True],\n",
       "       [ True,  True,  True,  True],\n",
       "       [ True,  True,  True,  True],\n",
       "       [ True,  True,  True,  True],\n",
       "       [ True,  True,  True,  True],\n",
       "       [ True,  True,  True,  True],\n",
       "       [ True,  True,  True,  True],\n",
       "       [ True,  True,  True,  True],\n",
       "       [ True,  True,  True,  True],\n",
       "       [ True,  True,  True,  True],\n",
       "       [ True,  True,  True,  True],\n",
       "       [ True,  True,  True,  True],\n",
       "       [ True,  True,  True,  True],\n",
       "       [ True,  True,  True,  True],\n",
       "       [ True,  True,  True,  True],\n",
       "       [ True,  True,  True,  True],\n",
       "       [ True,  True,  True,  True],\n",
       "       [ True,  True,  True,  True],\n",
       "       [ True,  True,  True,  True],\n",
       "       [ True,  True,  True,  True],\n",
       "       [ True,  True,  True,  True],\n",
       "       [ True,  True,  True,  True],\n",
       "       [ True,  True,  True,  True],\n",
       "       [ True,  True,  True,  True],\n",
       "       [ True,  True,  True,  True],\n",
       "       [ True,  True,  True,  True],\n",
       "       [ True,  True,  True,  True],\n",
       "       [ True,  True,  True,  True],\n",
       "       [ True,  True,  True,  True],\n",
       "       [ True,  True,  True,  True],\n",
       "       [ True,  True,  True,  True],\n",
       "       [ True,  True,  True,  True],\n",
       "       [ True,  True,  True,  True],\n",
       "       [ True,  True,  True,  True],\n",
       "       [ True,  True,  True,  True],\n",
       "       [ True,  True,  True,  True],\n",
       "       [ True,  True,  True,  True],\n",
       "       [ True,  True,  True,  True],\n",
       "       [ True,  True,  True,  True],\n",
       "       [ True,  True,  True,  True],\n",
       "       [ True,  True,  True,  True],\n",
       "       [ True,  True,  True,  True],\n",
       "       [ True,  True,  True,  True],\n",
       "       [ True,  True,  True,  True],\n",
       "       [ True,  True,  True,  True],\n",
       "       [ True,  True,  True,  True],\n",
       "       [ True,  True,  True,  True],\n",
       "       [ True,  True,  True,  True],\n",
       "       [ True,  True,  True,  True],\n",
       "       [ True,  True,  True,  True],\n",
       "       [ True,  True,  True,  True],\n",
       "       [ True,  True,  True,  True],\n",
       "       [ True,  True,  True,  True],\n",
       "       [ True,  True,  True,  True],\n",
       "       [ True,  True,  True,  True],\n",
       "       [ True,  True,  True,  True],\n",
       "       [ True,  True,  True,  True],\n",
       "       [ True,  True,  True,  True],\n",
       "       [ True,  True,  True,  True],\n",
       "       [ True,  True,  True,  True],\n",
       "       [ True,  True,  True,  True],\n",
       "       [ True,  True,  True,  True],\n",
       "       [ True,  True,  True,  True],\n",
       "       [ True,  True,  True,  True],\n",
       "       [ True,  True,  True,  True],\n",
       "       [ True,  True,  True,  True],\n",
       "       [ True,  True,  True,  True],\n",
       "       [ True,  True,  True,  True],\n",
       "       [ True,  True,  True,  True],\n",
       "       [ True,  True,  True,  True],\n",
       "       [ True,  True,  True,  True],\n",
       "       [ True,  True,  True,  True],\n",
       "       [ True,  True,  True,  True],\n",
       "       [ True,  True,  True,  True],\n",
       "       [ True,  True,  True,  True],\n",
       "       [ True,  True,  True,  True],\n",
       "       [ True,  True,  True,  True],\n",
       "       [ True,  True,  True,  True],\n",
       "       [ True,  True,  True,  True],\n",
       "       [ True,  True,  True,  True],\n",
       "       [ True,  True,  True,  True],\n",
       "       [ True,  True,  True,  True],\n",
       "       [ True,  True,  True,  True],\n",
       "       [ True,  True,  True,  True],\n",
       "       [ True,  True,  True,  True],\n",
       "       [ True,  True,  True,  True],\n",
       "       [ True,  True,  True,  True],\n",
       "       [ True,  True,  True,  True],\n",
       "       [ True,  True,  True,  True],\n",
       "       [ True,  True,  True,  True],\n",
       "       [ True,  True,  True,  True],\n",
       "       [ True,  True,  True,  True],\n",
       "       [ True,  True,  True,  True],\n",
       "       [ True,  True,  True,  True],\n",
       "       [ True,  True,  True,  True],\n",
       "       [ True,  True,  True,  True],\n",
       "       [ True,  True,  True,  True],\n",
       "       [ True,  True,  True,  True],\n",
       "       [ True,  True,  True,  True],\n",
       "       [ True,  True,  True,  True],\n",
       "       [ True,  True,  True,  True],\n",
       "       [ True,  True,  True,  True],\n",
       "       [ True,  True,  True,  True],\n",
       "       [ True,  True,  True,  True],\n",
       "       [ True,  True,  True,  True],\n",
       "       [ True,  True,  True,  True],\n",
       "       [ True,  True,  True,  True],\n",
       "       [ True,  True,  True,  True],\n",
       "       [ True,  True,  True,  True],\n",
       "       [ True,  True,  True,  True],\n",
       "       [ True,  True,  True,  True],\n",
       "       [ True,  True,  True,  True],\n",
       "       [ True,  True,  True,  True],\n",
       "       [ True,  True,  True,  True],\n",
       "       [ True,  True,  True,  True],\n",
       "       [ True,  True,  True,  True],\n",
       "       [ True,  True,  True,  True],\n",
       "       [ True,  True,  True,  True],\n",
       "       [ True,  True,  True,  True],\n",
       "       [ True,  True,  True,  True],\n",
       "       [ True,  True,  True,  True],\n",
       "       [ True,  True,  True,  True],\n",
       "       [ True,  True,  True,  True],\n",
       "       [ True,  True,  True,  True],\n",
       "       [ True,  True,  True,  True],\n",
       "       [ True,  True,  True,  True],\n",
       "       [ True,  True,  True,  True],\n",
       "       [ True,  True,  True,  True],\n",
       "       [ True,  True,  True,  True],\n",
       "       [ True,  True,  True,  True],\n",
       "       [ True,  True,  True,  True],\n",
       "       [ True,  True,  True,  True],\n",
       "       [ True,  True,  True,  True],\n",
       "       [ True,  True,  True,  True],\n",
       "       [ True,  True,  True,  True],\n",
       "       [ True,  True,  True,  True],\n",
       "       [ True,  True,  True,  True],\n",
       "       [ True,  True,  True,  True],\n",
       "       [ True,  True,  True,  True],\n",
       "       [ True,  True,  True,  True],\n",
       "       [ True,  True,  True,  True],\n",
       "       [ True,  True,  True,  True],\n",
       "       [ True,  True,  True,  True],\n",
       "       [ True,  True,  True,  True],\n",
       "       [ True,  True,  True,  True],\n",
       "       [ True,  True,  True,  True],\n",
       "       [ True,  True,  True,  True],\n",
       "       [ True,  True,  True,  True],\n",
       "       [ True,  True,  True,  True],\n",
       "       [ True,  True,  True,  True],\n",
       "       [ True,  True,  True,  True],\n",
       "       [ True,  True,  True,  True],\n",
       "       [ True,  True,  True,  True],\n",
       "       [ True,  True,  True,  True],\n",
       "       [ True,  True,  True,  True],\n",
       "       [ True,  True,  True,  True],\n",
       "       [ True,  True,  True,  True],\n",
       "       [ True,  True,  True,  True],\n",
       "       [ True,  True,  True,  True],\n",
       "       [ True,  True,  True,  True],\n",
       "       [ True,  True,  True,  True],\n",
       "       [ True,  True,  True,  True],\n",
       "       [ True,  True,  True,  True],\n",
       "       [ True,  True,  True,  True],\n",
       "       [ True,  True,  True,  True],\n",
       "       [ True,  True,  True,  True],\n",
       "       [ True,  True,  True,  True],\n",
       "       [ True,  True,  True,  True],\n",
       "       [ True,  True,  True,  True],\n",
       "       [ True,  True,  True,  True],\n",
       "       [ True,  True,  True,  True],\n",
       "       [ True,  True,  True,  True],\n",
       "       [ True,  True,  True,  True],\n",
       "       [ True,  True,  True,  True],\n",
       "       [ True,  True,  True,  True],\n",
       "       [ True,  True,  True,  True],\n",
       "       [ True,  True,  True,  True],\n",
       "       [ True,  True,  True,  True],\n",
       "       [ True,  True,  True,  True],\n",
       "       [ True,  True,  True,  True],\n",
       "       [ True,  True,  True,  True],\n",
       "       [ True,  True,  True,  True],\n",
       "       [ True,  True,  True,  True],\n",
       "       [ True,  True,  True,  True],\n",
       "       [ True,  True,  True,  True],\n",
       "       [ True,  True,  True,  True],\n",
       "       [ True,  True,  True,  True],\n",
       "       [ True,  True,  True,  True],\n",
       "       [ True,  True,  True,  True],\n",
       "       [ True,  True,  True,  True],\n",
       "       [ True,  True,  True,  True],\n",
       "       [ True,  True,  True,  True],\n",
       "       [ True,  True,  True,  True],\n",
       "       [ True,  True,  True,  True]])"
      ]
     },
     "execution_count": 65,
     "metadata": {},
     "output_type": "execute_result"
    }
   ],
   "source": [
    "data[0][0][:]==comp[:]"
   ]
  },
  {
   "cell_type": "code",
   "execution_count": null,
   "id": "9c1e0772-ae0d-4475-8f77-cd48ed2f6747",
   "metadata": {},
   "outputs": [],
   "source": []
  }
 ],
 "metadata": {
  "kernelspec": {
   "display_name": "Python 3 (ipykernel)",
   "language": "python",
   "name": "python3"
  },
  "language_info": {
   "codemirror_mode": {
    "name": "ipython",
    "version": 3
   },
   "file_extension": ".py",
   "mimetype": "text/x-python",
   "name": "python",
   "nbconvert_exporter": "python",
   "pygments_lexer": "ipython3",
   "version": "3.9.7"
  },
  "widgets": {
   "application/vnd.jupyter.widget-state+json": {
    "state": {},
    "version_major": 2,
    "version_minor": 0
   }
  }
 },
 "nbformat": 4,
 "nbformat_minor": 5
}
