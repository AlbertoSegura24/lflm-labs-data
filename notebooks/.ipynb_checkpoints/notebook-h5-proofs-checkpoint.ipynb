{
 "cells": [
  {
   "cell_type": "code",
   "execution_count": 1,
   "id": "fe4b112a-b6fb-4467-8589-01e7e35eb0bb",
   "metadata": {},
   "outputs": [],
   "source": [
    "#%matplotlib widget\n",
    "import numpy as np\n",
    "import matplotlib.pyplot as plt\n",
    "import os\n",
    "import sys\n",
    "import glob\n",
    "from tabulate import tabulate\n",
    "from datetime import date\n",
    "import pandas as pd\n",
    "from os import walk\n",
    "import peakutils\n",
    "from peakutils.plot import plot as pplot\n",
    "from IPython.display import display, clear_output\n",
    "#sys.path.append('/media/labfiles/lab-codes/lflm-labs-data/src')\n",
    "from labexp import experiments\n",
    "plt.style.use('/media/labfiles/lab-codes/plotstyle.mplstyle')\n",
    "#path=r'/media/labfiles/lab-exps'\n"
   ]
  },
  {
   "cell_type": "code",
   "execution_count": 24,
   "id": "be175fb5-9387-4b12-be77-47bb6e8571e3",
   "metadata": {
    "tags": []
   },
   "outputs": [
    {
     "name": "stdout",
     "output_type": "stream",
     "text": [
      "|  No. Dir  | Name Dir                                         |  No. files  |\n",
      "|-----------|--------------------------------------------------|-------------|\n",
      "|     0     | cry-sys-1/3-wells/exp-2021-12/2021-12-14-ras     |      7      |\n",
      "|     1     | cry-sys-1/3-wells/exp-2021-12/2021-12-16-ras     |      3      |\n",
      "|     2     | cry-sys-1/3-wells/exp-2022-01/exp-2022-01-10-ras |      4      |\n"
     ]
    }
   ],
   "source": [
    "exp = experiments(1,'cry1','ras','3-wells')\n",
    "data = exp.data\n",
    "filesname=exp.filesname\n",
    "paths=exp.pathname\n",
    "path = exp.path\n",
    "folders = exp.foldername"
   ]
  },
  {
   "cell_type": "code",
   "execution_count": 25,
   "id": "e5c0cde7-d5e2-421d-8f16-431f80902e9f",
   "metadata": {},
   "outputs": [
    {
     "name": "stdout",
     "output_type": "stream",
     "text": [
      "/media/labfiles/lab-exps/spectro-lab/cry-sys-1/3-wells\n",
      "/media/labfiles/lab-exps/spectro-lab/cry-sys-1/3-wells/exp-2021-12\n",
      "/media/labfiles/lab-exps/spectro-lab/cry-sys-1/3-wells/exp-2021-12/2021-12-14-ras\n",
      "/media/labfiles/lab-exps/spectro-lab/cry-sys-1/3-wells/exp-2021-12/2021-12-16-ras\n",
      "/media/labfiles/lab-exps/spectro-lab/cry-sys-1/3-wells/exp-2022-01\n",
      "/media/labfiles/lab-exps/spectro-lab/cry-sys-1/3-wells/exp-2022-01/exp-2022-01-10-ras\n"
     ]
    }
   ],
   "source": [
    "dname = []\n",
    "for (dirpath, dirnames, filenames) in walk('/media/labfiles/lab-exps/spectro-lab/cry-sys-1/3-wells',topdown=True):\n",
    "    # if 'exp-20' in dirpath:\n",
    "    #     print(dirpath)\n",
    "    #     #print(dirnames)\n",
    "    #     #dname.append(dirnames)\n",
    "    # else:\n",
    "    #     \n",
    "    print(dirpath)\n"
   ]
  },
  {
   "cell_type": "code",
   "execution_count": 28,
   "id": "b9b37718-bd67-4b71-9875-5c5b58a3f4a6",
   "metadata": {},
   "outputs": [
    {
     "data": {
      "text/plain": [
       "['exp-2021-12', 'exp-2022-01']"
      ]
     },
     "execution_count": 4,
     "metadata": {},
     "output_type": "execute_result"
    }
   ],
   "source": [
    "ld = os.listdir(\"/media/labfiles/lab-exps/spectro-lab/cry-sys-1/3-wells\")\n",
    "ld"
   ]
  },
  {
   "cell_type": "code",
   "execution_count": 27,
   "id": "6846b21a-52b6-41ee-97c0-634b23b715b8",
   "metadata": {},
   "outputs": [
    {
     "data": {
      "text/plain": [
       "['exp-2021-12', 'exp-2022-01']"
      ]
     },
     "execution_count": 5,
     "metadata": {},
     "output_type": "execute_result"
    }
   ],
   "source": [
    "ld = os.listdir(\"/media/labfiles/lab-exps/spectro-lab/cry-sys-1/3-wells\")\n",
    "for i in ld:\n",
    "    if \".opju\" in i:\n",
    "        print(i)\n",
    "        ld.remove(i)\n",
    "ld"
   ]
  },
  {
   "cell_type": "code",
   "execution_count": 40,
   "id": "2a7dcc84-8bb1-494e-9141-7cfccdaf9259",
   "metadata": {},
   "outputs": [
    {
     "data": {
      "text/plain": [
       "250"
      ]
     },
     "execution_count": 6,
     "metadata": {},
     "output_type": "execute_result"
    }
   ],
   "source": [
    "data[0][0].shape[0]"
   ]
  },
  {
   "cell_type": "code",
   "execution_count": 24,
   "id": "d05cf91f-85a2-423f-b24c-ef17a21d4f86",
   "metadata": {},
   "outputs": [
    {
     "name": "stdout",
     "output_type": "stream",
     "text": [
      "7\n",
      "(450, 4, 7)\n",
      "3\n",
      "(450, 4, 3)\n",
      "4\n",
      "(500, 4, 4)\n"
     ]
    }
   ],
   "source": [
    "import h5py\n",
    "lend = len(data)\n",
    "maxdimrows = 0\n",
    "maxdimcols = 0\n",
    "dimlist = []\n",
    "totaldims = []\n",
    "for i in range(lend):\n",
    "    lend2 = len(data[i])\n",
    "    dummylist = []\n",
    "    #print(lend2)\n",
    "    if lend2 > 0:\n",
    "        for j in range(lend2):\n",
    "            #print(data[i][j].shape)\n",
    "            if data[i][j].shape[0] > maxdimrows or data[i][j].shape[1] > maxdimcols:\n",
    "                maxdimrows = data[i][j].shape[0]\n",
    "                maxdimcols = data[i][j].shape[1]\n",
    "            else:\n",
    "                pass\n",
    "            dummylist.append(data[i][j].shape)  \n",
    "        dimlist.append([maxdimrows,maxdimcols])\n",
    "        totaldims.append(dummylist)\n",
    "        \n",
    "alla = []     \n",
    "idxc=0\n",
    "for i in range(lend):\n",
    "    lend2 = len(data[i])\n",
    "    if lend2 > 0:\n",
    "        print(lend2)\n",
    "        npa = np.empty((dimlist[i][0],dimlist[i][1],lend2), dtype=np.float64)\n",
    "        print(npa.shape)\n",
    "        for j in range(lend2):\n",
    "            rows,cols = totaldims[i][j]\n",
    "            #print(rows,cols)\n",
    "            if npa[0:rows,0:cols,j].shape == data[i][j].shape:\n",
    "                #print(data[i][j].shape)\n",
    "                #print(npa[0:rows,0:cols,j].shape)\n",
    "                npa[0:rows,0:cols,j]=data[i][j]\n",
    "        alla.append(npa)\n",
    "        idxc+=1\n",
    "    else:\n",
    "        pass\n",
    "    \n",
    "# #define multidimensional array"
   ]
  },
  {
   "cell_type": "code",
   "execution_count": 35,
   "id": "e4f02208-6a44-48f6-9c9b-e89e0278cc8e",
   "metadata": {},
   "outputs": [
    {
     "data": {
      "text/plain": [
       "(500, 4, 4)"
      ]
     },
     "execution_count": 35,
     "metadata": {},
     "output_type": "execute_result"
    }
   ],
   "source": [
    "alla[2].shape"
   ]
  },
  {
   "cell_type": "code",
   "execution_count": 51,
   "id": "c54a668e-5c62-4da6-843b-0d6e627edb69",
   "metadata": {},
   "outputs": [],
   "source": [
    "import h5py\n",
    "f = h5py.File(\"test0.h5\",\"a\")"
   ]
  },
  {
   "cell_type": "code",
   "execution_count": 17,
   "id": "5355648b-4cd2-491f-8bfb-62689689d90f",
   "metadata": {},
   "outputs": [
    {
     "name": "stdout",
     "output_type": "stream",
     "text": [
      "Already exist\n"
     ]
    }
   ],
   "source": [
    "try:\n",
    "    f = h5py.File(\"test0.h5\",\"w\")\n",
    "except:\n",
    "    f = h5py.File(\"test0.h5\",\"r+w\")\n",
    "    print(\"Already exist\")"
   ]
  },
  {
   "cell_type": "code",
   "execution_count": 38,
   "id": "84dd9f68-9357-4516-a208-1364099f14db",
   "metadata": {},
   "outputs": [
    {
     "data": {
      "text/plain": [
       "<KeysViewHDF5 []>"
      ]
     },
     "execution_count": 38,
     "metadata": {},
     "output_type": "execute_result"
    }
   ],
   "source": [
    "f.keys()"
   ]
  },
  {
   "cell_type": "code",
   "execution_count": 54,
   "id": "ebe80f32-b4c0-48cf-a4b9-d57081ddb35e",
   "metadata": {},
   "outputs": [
    {
     "data": {
      "text/plain": [
       "['exp-2021-12', 'exp-2022-01']"
      ]
     },
     "execution_count": 54,
     "metadata": {},
     "output_type": "execute_result"
    }
   ],
   "source": [
    "pth='/media/labfiles/lab-exps/spectro-lab/cry-sys-1/3-wells/'\n",
    "os.listdir(pth)"
   ]
  },
  {
   "cell_type": "code",
   "execution_count": 55,
   "id": "88cad8c8-2c51-44bb-81e6-7ff9467d6a00",
   "metadata": {},
   "outputs": [
    {
     "name": "stdout",
     "output_type": "stream",
     "text": [
      "These group already exist\n",
      "These group already exist\n"
     ]
    }
   ],
   "source": [
    "for i in os.listdir(pth):\n",
    "    try :\n",
    "        f.create_group(i)\n",
    "    except:\n",
    "        print(\"These group already exist\")"
   ]
  },
  {
   "cell_type": "code",
   "execution_count": 57,
   "id": "e140b3d0-8f3b-4853-b350-f432177b60f1",
   "metadata": {},
   "outputs": [
    {
     "data": {
      "text/plain": [
       "<KeysViewHDF5 ['exp-2021-12', 'exp-2022-01']>"
      ]
     },
     "execution_count": 57,
     "metadata": {},
     "output_type": "execute_result"
    }
   ],
   "source": [
    "f.keys()"
   ]
  },
  {
   "cell_type": "code",
   "execution_count": 58,
   "id": "0500866e-d1bd-4337-aa3f-da0a9dfbd5ac",
   "metadata": {},
   "outputs": [
    {
     "data": {
      "text/plain": [
       "<HDF5 group \"/exp-2021-12\" (0 members)>"
      ]
     },
     "execution_count": 58,
     "metadata": {},
     "output_type": "execute_result"
    }
   ],
   "source": [
    "f['exp-2021-12']"
   ]
  },
  {
   "cell_type": "code",
   "execution_count": 65,
   "id": "7631ecfa-5a3c-45f8-b131-952238d073a4",
   "metadata": {},
   "outputs": [
    {
     "name": "stdout",
     "output_type": "stream",
     "text": [
      "exp-2021-12 2021-12-16-ras\n"
     ]
    }
   ],
   "source": [
    "idx=0\n",
    "for count,value in enumerate(os.listdir(pth)):\n",
    "    for count2,value2 in enumerate(os.listdir(pth+ld[count])):\n",
    "        try:\n",
    "            f[value].create_group(value2)\n",
    "            print(value,value2)\n",
    "            idx+=1\n",
    "        except:\n",
    "            pass"
   ]
  },
  {
   "cell_type": "code",
   "execution_count": 72,
   "id": "39c38e4c-d283-4349-9755-0e3d3760a1e5",
   "metadata": {},
   "outputs": [
    {
     "data": {
      "text/plain": [
       "<KeysViewHDF5 []>"
      ]
     },
     "execution_count": 72,
     "metadata": {},
     "output_type": "execute_result"
    }
   ],
   "source": [
    "f[\"exp-2021-12/2021-12-14-ras\"].keys()"
   ]
  },
  {
   "cell_type": "code",
   "execution_count": 74,
   "id": "8b519e69-fbc6-4dbd-8d07-357bfc301a23",
   "metadata": {},
   "outputs": [
    {
     "name": "stdout",
     "output_type": "stream",
     "text": [
      "<HDF5 group \"/exp-2021-12/2021-12-14-ras\" (1 members)>\n",
      "<HDF5 group \"/exp-2021-12/2021-12-16-ras\" (1 members)>\n",
      "<HDF5 group \"/exp-2022-01/exp-2022-01-10-ras\" (1 members)>\n"
     ]
    }
   ],
   "source": [
    "idx=0\n",
    "for count,value in enumerate(os.listdir(pth)):\n",
    "    for count2,value2 in enumerate(os.listdir(pth+ld[count])):\n",
    "        try:\n",
    "            #f[value].create_group(value2)\n",
    "            f[value][value2].create_dataset(\"exp\",data=alla[idx], dtype=np.float64)\n",
    "            print(f[value][value2])\n",
    "            idx+=1\n",
    "        except:\n",
    "            pass\n"
   ]
  },
  {
   "cell_type": "code",
   "execution_count": 84,
   "id": "06b45bc1-60b0-4925-bf68-28770cd2091a",
   "metadata": {},
   "outputs": [
    {
     "data": {
      "text/plain": [
       "<HDF5 dataset \"exp\": shape (450, 4, 7), type \"<f8\">"
      ]
     },
     "execution_count": 84,
     "metadata": {},
     "output_type": "execute_result"
    }
   ],
   "source": [
    "f['exp-2021-12/2021-12-14-ras/exp']"
   ]
  },
  {
   "cell_type": "code",
   "execution_count": null,
   "id": "9c1e0772-ae0d-4475-8f77-cd48ed2f6747",
   "metadata": {},
   "outputs": [],
   "source": []
  }
 ],
 "metadata": {
  "kernelspec": {
   "display_name": "Python 3 (ipykernel)",
   "language": "python",
   "name": "python3"
  },
  "language_info": {
   "codemirror_mode": {
    "name": "ipython",
    "version": 3
   },
   "file_extension": ".py",
   "mimetype": "text/x-python",
   "name": "python",
   "nbconvert_exporter": "python",
   "pygments_lexer": "ipython3",
   "version": "3.9.7"
  },
  "widgets": {
   "application/vnd.jupyter.widget-state+json": {
    "state": {},
    "version_major": 2,
    "version_minor": 0
   }
  }
 },
 "nbformat": 4,
 "nbformat_minor": 5
}
